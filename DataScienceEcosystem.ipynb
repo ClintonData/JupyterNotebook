{
 "cells": [
  {
   "cell_type": "markdown",
   "id": "b9c95e46-270c-40e0-89cd-17c2815d6920",
   "metadata": {},
   "source": [
    "# Data Science Tools and Ecosystem"
   ]
  },
  {
   "cell_type": "markdown",
   "id": "fa813432-875d-42e0-9c08-b17374f9a3c4",
   "metadata": {},
   "source": [
    "In this notebook, Data Science Tools and Ecosystem are summarized."
   ]
  },
  {
   "cell_type": "markdown",
   "id": "0ab69eaf-b989-491b-ae3f-0d007c17df18",
   "metadata": {},
   "source": [
    "Some of the popular languages that Data Scientists use are:\n",
    "\n",
    "1. Python\n",
    "2. R\n",
    "3. SQL"
   ]
  },
  {
   "cell_type": "markdown",
   "id": "5ed3052e-c099-4661-84bd-bc2481af8cdd",
   "metadata": {},
   "source": [
    "Some of the commonly used libraries used by Data Scientists include:\n",
    "\n",
    "1. Pandas\n",
    "2. NumPy\n",
    "3. Matplotlib"
   ]
  },
  {
   "cell_type": "markdown",
   "id": "97ef1e84-e6dd-44c2-bd69-9f6eb54a384a",
   "metadata": {},
   "source": [
    "|Data Science Tools|\n",
    "|--|\n",
    "|Jupyter Notebooks|\n",
    "|RStudio|\n",
    "|Spyder|"
   ]
  },
  {
   "cell_type": "markdown",
   "id": "dd0d9310-0332-419e-97ed-4cf5d3b18556",
   "metadata": {},
   "source": [
    "### Below are a few examples of evaluating arithmetic expressions in Python"
   ]
  },
  {
   "cell_type": "code",
   "execution_count": 4,
   "id": "cc357356-f8ca-4595-b917-4c8365434770",
   "metadata": {},
   "outputs": [
    {
     "data": {
      "text/plain": [
       "17"
      ]
     },
     "execution_count": 4,
     "metadata": {},
     "output_type": "execute_result"
    }
   ],
   "source": [
    "#This a simple arithmetic expression to mutiply then add integers\n",
    "(3*4)+5"
   ]
  },
  {
   "cell_type": "code",
   "execution_count": 10,
   "id": "0bd3aba5-77a2-4b86-9ea5-8870a9e0a02d",
   "metadata": {},
   "outputs": [
    {
     "data": {
      "text/plain": [
       "3"
      ]
     },
     "execution_count": 10,
     "metadata": {},
     "output_type": "execute_result"
    }
   ],
   "source": [
    "#This will convert 200 minutes to hours by diving by 60\n",
    "200//60\n"
   ]
  },
  {
   "cell_type": "markdown",
   "id": "07842513-0b54-41a5-bc87-acbdbde864d9",
   "metadata": {},
   "source": [
    "**Objectives:**\n",
    "- List popular languages for Data Scientists use\n",
    "- Commonly used libraries used by Data Scientists\n",
    "- List of Data Science Tools\n",
    "- Create simple arithmetic express to mutliply then add an integer\n",
    "- Create code to convert 200 minutes to hours by dividing by 60"
   ]
  },
  {
   "cell_type": "markdown",
   "id": "e45064c0-c13c-489e-89da-862a275e8a5b",
   "metadata": {},
   "source": [
    "## Author\n",
    "Clint.O"
   ]
  }
 ],
 "metadata": {
  "kernelspec": {
   "display_name": "Python 3 (ipykernel)",
   "language": "python",
   "name": "python3"
  },
  "language_info": {
   "codemirror_mode": {
    "name": "ipython",
    "version": 3
   },
   "file_extension": ".py",
   "mimetype": "text/x-python",
   "name": "python",
   "nbconvert_exporter": "python",
   "pygments_lexer": "ipython3",
   "version": "3.11.7"
  }
 },
 "nbformat": 4,
 "nbformat_minor": 5
}
